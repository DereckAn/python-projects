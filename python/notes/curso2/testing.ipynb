{
 "cells": [
  {
   "cell_type": "code",
   "execution_count": 2,
   "id": "3bd1dafe",
   "metadata": {},
   "outputs": [],
   "source": [
    "import numpy as np\n",
    "import tensorflow as tf"
   ]
  },
  {
   "cell_type": "markdown",
   "id": "789f238a",
   "metadata": {},
   "source": [
    "w is the parameter we want to optimized \n",
    "We used \"GradientTape\" to record the order of the sequence of operations needed to compute the cost function."
   ]
  },
  {
   "cell_type": "code",
   "execution_count": 4,
   "id": "1edbe627",
   "metadata": {},
   "outputs": [
    {
     "name": "stdout",
     "output_type": "stream",
     "text": [
      "Initial w: <tf.Variable 'Variable:0' shape=() dtype=float32, numpy=0.0>\n"
     ]
    }
   ],
   "source": [
    "w = tf.Variable(0, dtype=tf.float32)\n",
    "optimizer = tf.keras.optimizers.Adam(0.1)\n",
    "\n",
    "def train_step():\n",
    "    with tf.GradientTape() as tape:\n",
    "        cost = w ** 2  + 10 * w + 25\n",
    "    train_variables = [w]\n",
    "    grads = tape.gradient(cost, train_variables)\n",
    "    optimizer.apply_gradients(zip(grads, train_variables))\n",
    "\n",
    "print(\"Initial w:\", w)"
   ]
  },
  {
   "cell_type": "code",
   "execution_count": 5,
   "id": "af9a1e06",
   "metadata": {},
   "outputs": [
    {
     "name": "stdout",
     "output_type": "stream",
     "text": [
      "Updated w: <tf.Variable 'Variable:0' shape=() dtype=float32, numpy=-0.0999993085861206>\n"
     ]
    }
   ],
   "source": [
    "train_step()\n",
    "print(\"Updated w:\", w)"
   ]
  },
  {
   "cell_type": "code",
   "execution_count": 6,
   "id": "add8d79b",
   "metadata": {},
   "outputs": [
    {
     "name": "stdout",
     "output_type": "stream",
     "text": [
      "Final w: <tf.Variable 'Variable:0' shape=() dtype=float32, numpy=-5.000000953674316>\n"
     ]
    }
   ],
   "source": [
    "for i in range(1000):\n",
    "    train_step()\n",
    "\n",
    "print(\"Final w:\", w)"
   ]
  },
  {
   "cell_type": "markdown",
   "id": "28304e48",
   "metadata": {},
   "source": [
    "X y sus 3 numeros van a jugar el papel de los coeficientes de la funcion de costo. \n",
    "Tambien podemos pensar que los valores 1, -10 , y 25 van a remplazar los numeros que estan en la funcion cuadratica. "
   ]
  },
  {
   "cell_type": "code",
   "execution_count": 14,
   "id": "8aa9992b",
   "metadata": {},
   "outputs": [
    {
     "name": "stdout",
     "output_type": "stream",
     "text": [
      "Initial w: <tf.Variable 'Variable:0' shape=() dtype=float32, numpy=0.0>\n",
      "Updated w: <tf.Variable 'Variable:0' shape=() dtype=float32, numpy=0.0999993085861206>\n"
     ]
    }
   ],
   "source": [
    "w = tf.Variable(0, dtype=tf.float32)\n",
    "x = np.array([1.0,-10, 25], dtype=np.float32)\n",
    "optimizer = tf.keras.optimizers.Adam(0.1)\n",
    "\n",
    "def cost_function():\n",
    "    return x[0]*w**2 + x[1]*w + x[2]\n",
    "\n",
    "print(\"Initial w:\", w)\n",
    "\n",
    "# Usar GradientTape para calcular gradientes\n",
    "with tf.GradientTape() as tape:\n",
    "    cost = cost_function()\n",
    "\n",
    "gradients = tape.gradient(cost, [w])\n",
    "optimizer.apply_gradients(zip(gradients, [w]))\n",
    "\n",
    "print(\"Updated w:\", w)"
   ]
  },
  {
   "cell_type": "code",
   "execution_count": 15,
   "id": "89027f31",
   "metadata": {},
   "outputs": [
    {
     "name": "stdout",
     "output_type": "stream",
     "text": [
      "Entrenando por 1000 pasos...\n",
      "Paso 0: w = 0.199941, costo = 24.010006\n",
      "Paso 100: w = 5.039641, costo = 0.001554\n",
      "Paso 200: w = 5.000138, costo = -0.000002\n",
      "Paso 300: w = 5.000001, costo = 0.000000\n",
      "Paso 200: w = 5.000138, costo = -0.000002\n",
      "Paso 300: w = 5.000001, costo = 0.000000\n",
      "Paso 400: w = 5.000001, costo = 0.000000\n",
      "Paso 500: w = 5.000001, costo = 0.000000\n",
      "Paso 400: w = 5.000001, costo = 0.000000\n",
      "Paso 500: w = 5.000001, costo = 0.000000\n",
      "Paso 600: w = 5.000001, costo = 0.000000\n",
      "Paso 700: w = 5.000001, costo = 0.000000\n",
      "Paso 600: w = 5.000001, costo = 0.000000\n",
      "Paso 700: w = 5.000001, costo = 0.000000\n",
      "Paso 800: w = 5.000001, costo = 0.000000\n",
      "Paso 900: w = 5.000001, costo = 0.000002\n",
      "Paso 800: w = 5.000001, costo = 0.000000\n",
      "Paso 900: w = 5.000001, costo = 0.000002\n",
      "Final w: 5.000001\n",
      "Costo final: 0.000002\n",
      "Valor óptimo teórico: w = 5\n",
      "Diferencia: 0.000001\n",
      "Final w: 5.000001\n",
      "Costo final: 0.000002\n",
      "Valor óptimo teórico: w = 5\n",
      "Diferencia: 0.000001\n"
     ]
    }
   ],
   "source": [
    "# Versión con función de entrenamiento para múltiples iteraciones\n",
    "def train_step():\n",
    "    with tf.GradientTape() as tape:\n",
    "        cost = cost_function()\n",
    "    gradients = tape.gradient(cost, [w])\n",
    "    optimizer.apply_gradients(zip(gradients, [w]))\n",
    "    return cost\n",
    "\n",
    "print(\"Entrenando por 1000 pasos...\")\n",
    "for i in range(1000):\n",
    "    current_cost = train_step()\n",
    "    if i % 100 == 0:\n",
    "        print(f\"Paso {i}: w = {w.numpy():.6f}, costo = {current_cost.numpy():.6f}\")\n",
    "\n",
    "print(f\"Final w: {w.numpy():.6f}\")\n",
    "print(f\"Costo final: {cost_function().numpy():.6f}\")\n",
    "\n",
    "# El valor óptimo teórico es w = 5 (donde la derivada es 0)\n",
    "print(f\"Valor óptimo teórico: w = 5\")\n",
    "print(f\"Diferencia: {abs(w.numpy() - 5):.6f}\")"
   ]
  },
  {
   "cell_type": "code",
   "execution_count": null,
   "id": "ef7d817a",
   "metadata": {},
   "outputs": [],
   "source": []
  }
 ],
 "metadata": {
  "kernelspec": {
   "display_name": "myenv",
   "language": "python",
   "name": "python3"
  },
  "language_info": {
   "codemirror_mode": {
    "name": "ipython",
    "version": 3
   },
   "file_extension": ".py",
   "mimetype": "text/x-python",
   "name": "python",
   "nbconvert_exporter": "python",
   "pygments_lexer": "ipython3",
   "version": "3.13.5"
  }
 },
 "nbformat": 4,
 "nbformat_minor": 5
}
